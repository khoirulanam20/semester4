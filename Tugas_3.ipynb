{
  "nbformat": 4,
  "nbformat_minor": 0,
  "metadata": {
    "colab": {
      "provenance": []
    },
    "kernelspec": {
      "name": "python3",
      "display_name": "Python 3"
    },
    "language_info": {
      "name": "python"
    }
  },
  "cells": [
    {
      "cell_type": "code",
      "execution_count": 1,
      "metadata": {
        "id": "83xS_5itVmWC"
      },
      "outputs": [],
      "source": [
        "import numpy as np\n",
        "import matplotlib.pyplot as plt\n",
        "import pandas as pd"
      ]
    },
    {
      "cell_type": "code",
      "source": [
        "dataset = pd.read_csv('Data (2).csv')\n",
        "x = dataset.iloc[:, :-1].values\n",
        "y = dataset.iloc[:, -1].values"
      ],
      "metadata": {
        "id": "PzvY6ZmXWA5a"
      },
      "execution_count": 5,
      "outputs": []
    },
    {
      "cell_type": "code",
      "source": [
        "print(x)"
      ],
      "metadata": {
        "colab": {
          "base_uri": "https://localhost:8080/"
        },
        "id": "2E6ncay9WHb_",
        "outputId": "138502ef-5493-4c43-a653-8959ecd38baf"
      },
      "execution_count": 6,
      "outputs": [
        {
          "output_type": "stream",
          "name": "stdout",
          "text": [
            "[['Malaysia' 30.0 32000.0]\n",
            " ['Indonesia' 25.0 30000.0]\n",
            " ['Singapura' 37.0 50000.0]\n",
            " ['Indonesia' 45.0 61000.0]\n",
            " ['Singapura' 22.0 25000.0]\n",
            " ['Indonesia' 35.0 nan]\n",
            " ['Malaysia' 30.0 52000.0]\n",
            " ['Singapura' 48.0 79000.0]\n",
            " ['Malaysia' nan 83000.0]\n",
            " ['Indonesia' 50.0 77000.0]]\n"
          ]
        }
      ]
    },
    {
      "cell_type": "code",
      "source": [
        "print(y)"
      ],
      "metadata": {
        "colab": {
          "base_uri": "https://localhost:8080/"
        },
        "id": "HU5Nyuy3WJxs",
        "outputId": "94fd94d0-f2dd-4306-ddaa-45fa78ac4ec0"
      },
      "execution_count": 7,
      "outputs": [
        {
          "output_type": "stream",
          "name": "stdout",
          "text": [
            "['No' 'Yes' 'No' 'No' 'Yes' 'Yes' 'No' 'Yes' 'No' 'Yes']\n"
          ]
        }
      ]
    },
    {
      "cell_type": "code",
      "source": [
        "from sklearn.impute import SimpleImputer\n",
        "imputer = SimpleImputer(missing_values=np.nan, strategy='mean')\n",
        "imputer.fit(x[:, 1:3])\n",
        "x[:, 1:3] = imputer.transform(x[:, 1:3])"
      ],
      "metadata": {
        "id": "-seto6LsWR6P"
      },
      "execution_count": 9,
      "outputs": []
    },
    {
      "cell_type": "code",
      "source": [
        "print(x)"
      ],
      "metadata": {
        "colab": {
          "base_uri": "https://localhost:8080/"
        },
        "id": "vJN8XbGjWbbe",
        "outputId": "2991fae4-cb6c-4f68-f820-913973b43fd8"
      },
      "execution_count": 10,
      "outputs": [
        {
          "output_type": "stream",
          "name": "stdout",
          "text": [
            "[['Malaysia' 30.0 32000.0]\n",
            " ['Indonesia' 25.0 30000.0]\n",
            " ['Singapura' 37.0 50000.0]\n",
            " ['Indonesia' 45.0 61000.0]\n",
            " ['Singapura' 22.0 25000.0]\n",
            " ['Indonesia' 35.0 54333.333333333336]\n",
            " ['Malaysia' 30.0 52000.0]\n",
            " ['Singapura' 48.0 79000.0]\n",
            " ['Malaysia' 35.77777777777778 83000.0]\n",
            " ['Indonesia' 50.0 77000.0]]\n"
          ]
        }
      ]
    },
    {
      "cell_type": "code",
      "source": [
        "from sklearn.compose import ColumnTransformer\n",
        "from sklearn.preprocessing import OneHotEncoder\n",
        "ct = ColumnTransformer(transformers=[('encoder', OneHotEncoder(), [0])], remainder='passthrough')\n",
        "x = np.array(ct.fit_transform(x))"
      ],
      "metadata": {
        "id": "BmWs7B1_WwQJ"
      },
      "execution_count": 13,
      "outputs": []
    },
    {
      "cell_type": "code",
      "source": [
        "print(x)"
      ],
      "metadata": {
        "colab": {
          "base_uri": "https://localhost:8080/"
        },
        "id": "o2GdbBTxW1KL",
        "outputId": "5eb633b6-c3c5-44bf-c0c3-cca8e5f89c62"
      },
      "execution_count": 14,
      "outputs": [
        {
          "output_type": "stream",
          "name": "stdout",
          "text": [
            "[[0.0 1.0 0.0 30.0 32000.0]\n",
            " [1.0 0.0 0.0 25.0 30000.0]\n",
            " [0.0 0.0 1.0 37.0 50000.0]\n",
            " [1.0 0.0 0.0 45.0 61000.0]\n",
            " [0.0 0.0 1.0 22.0 25000.0]\n",
            " [1.0 0.0 0.0 35.0 54333.333333333336]\n",
            " [0.0 1.0 0.0 30.0 52000.0]\n",
            " [0.0 0.0 1.0 48.0 79000.0]\n",
            " [0.0 1.0 0.0 35.77777777777778 83000.0]\n",
            " [1.0 0.0 0.0 50.0 77000.0]]\n"
          ]
        }
      ]
    },
    {
      "cell_type": "code",
      "source": [
        "from sklearn.preprocessing import LabelEncoder\n",
        "le = LabelEncoder()\n",
        "y = le.fit_transform(y)"
      ],
      "metadata": {
        "id": "P8W9uQneW4BU"
      },
      "execution_count": 15,
      "outputs": []
    },
    {
      "cell_type": "code",
      "source": [
        "print(y)"
      ],
      "metadata": {
        "colab": {
          "base_uri": "https://localhost:8080/"
        },
        "id": "SL1nxH53W8Q5",
        "outputId": "10ab6913-cadc-4975-aa30-8021c994bfbc"
      },
      "execution_count": 16,
      "outputs": [
        {
          "output_type": "stream",
          "name": "stdout",
          "text": [
            "[0 1 0 0 1 1 0 1 0 1]\n"
          ]
        }
      ]
    },
    {
      "cell_type": "code",
      "source": [
        "from sklearn.model_selection import train_test_split\n",
        "x_train, x_test, y_train, y_test = train_test_split(x, y, test_size=0.2, random_state=1)"
      ],
      "metadata": {
        "id": "820GwjMMXAPa"
      },
      "execution_count": 17,
      "outputs": []
    },
    {
      "cell_type": "code",
      "source": [
        "print(x_train)"
      ],
      "metadata": {
        "colab": {
          "base_uri": "https://localhost:8080/"
        },
        "id": "QMVl04vyXCyb",
        "outputId": "fbb52f0f-499a-4faf-ab43-87787c1574e6"
      },
      "execution_count": 18,
      "outputs": [
        {
          "output_type": "stream",
          "name": "stdout",
          "text": [
            "[[0.0 1.0 0.0 30.0 52000.0]\n",
            " [0.0 0.0 1.0 22.0 25000.0]\n",
            " [0.0 1.0 0.0 30.0 32000.0]\n",
            " [1.0 0.0 0.0 45.0 61000.0]\n",
            " [1.0 0.0 0.0 25.0 30000.0]\n",
            " [0.0 0.0 1.0 48.0 79000.0]\n",
            " [0.0 1.0 0.0 35.77777777777778 83000.0]\n",
            " [1.0 0.0 0.0 35.0 54333.333333333336]]\n"
          ]
        }
      ]
    },
    {
      "cell_type": "code",
      "source": [
        "print(y_train)"
      ],
      "metadata": {
        "colab": {
          "base_uri": "https://localhost:8080/"
        },
        "id": "aU426H9RXHMp",
        "outputId": "10a052ee-8ea3-4fb2-a2b3-e5e55c47b72f"
      },
      "execution_count": 19,
      "outputs": [
        {
          "output_type": "stream",
          "name": "stdout",
          "text": [
            "[0 1 0 0 1 1 0 1]\n"
          ]
        }
      ]
    },
    {
      "cell_type": "code",
      "source": [
        "print(x_test)"
      ],
      "metadata": {
        "colab": {
          "base_uri": "https://localhost:8080/"
        },
        "id": "F57ffuLgXKLu",
        "outputId": "74462721-9e6a-4c83-8082-129d1cfaf62c"
      },
      "execution_count": 20,
      "outputs": [
        {
          "output_type": "stream",
          "name": "stdout",
          "text": [
            "[[0.0 0.0 1.0 37.0 50000.0]\n",
            " [1.0 0.0 0.0 50.0 77000.0]]\n"
          ]
        }
      ]
    },
    {
      "cell_type": "code",
      "source": [
        "print(y_test)"
      ],
      "metadata": {
        "colab": {
          "base_uri": "https://localhost:8080/"
        },
        "id": "nTn2BPvdXNUJ",
        "outputId": "f75a74b8-0358-4035-d766-64a41fb7258e"
      },
      "execution_count": 21,
      "outputs": [
        {
          "output_type": "stream",
          "name": "stdout",
          "text": [
            "[0 1]\n"
          ]
        }
      ]
    },
    {
      "cell_type": "code",
      "source": [
        "from sklearn.preprocessing import StandardScaler\n",
        "sc = StandardScaler()\n",
        "x_train[:, 3:] = sc.fit_transform(x_train[:, 3:])\n",
        "x_test[:, 3:] = sc.transform(x_test[:, 3:])"
      ],
      "metadata": {
        "id": "Tq0I2TgnXQe3"
      },
      "execution_count": 23,
      "outputs": []
    },
    {
      "cell_type": "code",
      "source": [
        "print(x_train)"
      ],
      "metadata": {
        "colab": {
          "base_uri": "https://localhost:8080/"
        },
        "id": "NlD_jdngXVVC",
        "outputId": "cf09ea3a-aa61-4b0c-e831-bb7384dfda00"
      },
      "execution_count": 24,
      "outputs": [
        {
          "output_type": "stream",
          "name": "stdout",
          "text": [
            "[[0.0 1.0 0.0 -0.4526246511843521 -0.0020242790555111533]\n",
            " [0.0 0.0 1.0 -1.3938224818059652 -1.3137571070268148]\n",
            " [0.0 1.0 0.0 -0.4526246511843521 -0.9736782257009212]\n",
            " [1.0 0.0 0.0 1.3121212812311727 0.43521999693492336]\n",
            " [1.0 0.0 0.0 -1.0408732953228603 -1.070843620365462]\n",
            " [0.0 0.0 1.0 1.6650704677142776 1.3097085489157925]\n",
            " [0.0 1.0 0.0 0.22712933759792422 1.5040393382448745]\n",
            " [1.0 0.0 0.0 0.13562399295415617 0.11133534805312013]]\n"
          ]
        }
      ]
    },
    {
      "cell_type": "code",
      "source": [
        "print(x_test)"
      ],
      "metadata": {
        "colab": {
          "base_uri": "https://localhost:8080/"
        },
        "id": "yaa_pC0BXYH2",
        "outputId": "6d27d134-42ea-48fc-ee21-c9336ecc212e"
      },
      "execution_count": 25,
      "outputs": [
        {
          "output_type": "stream",
          "name": "stdout",
          "text": [
            "[[0.0 0.0 1.0 0.37092345060955945 -0.09918967372005216]\n",
            " [1.0 0.0 0.0 1.900369925369681 1.2125431542512515]]\n"
          ]
        }
      ]
    }
  ]
}